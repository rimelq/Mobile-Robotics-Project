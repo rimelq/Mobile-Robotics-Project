{
 "cells": [
  {
   "cell_type": "markdown",
   "id": "43e22f41-75ef-4889-8d4f-215422b31675",
   "metadata": {},
   "source": [
    "# Basics of Mobile Robotics - PROJECT"
   ]
  },
  {
   "cell_type": "markdown",
   "id": "30c8cc7b-458b-41f0-a760-a690f22ffea1",
   "metadata": {},
   "source": [
    "**Students :  Elias Da Ros, Rim El Qabli, Mehdi Peci, Luis Oscar Rodriguez Jimenez**"
   ]
  },
  {
   "cell_type": "markdown",
   "id": "da466979-baa3-4ba0-a991-df48756e2708",
   "metadata": {
    "jp-MarkdownHeadingCollapsed": true
   },
   "source": [
    "# Table of Contents\n",
    "1. [Introduction](#Introduction)\n",
    "   \n",
    "    1.1 [Project Description](#Project-Description)\n",
    "   \n",
    "    1.2 [Environment Setup](#Environment-Setup)\n",
    "   \n",
    "    1.3 [Project Structure](#Project-Structure)\n",
    "   \n",
    "2. [Modules](#Modules)\n",
    " \n",
    "    2.1 [Computer Vision](#Computer-Vision)\n",
    "   \n",
    "    2.2 [Global Navigation](#Global-Navigation)\n",
    "   \n",
    "    2.3 [Local Navigation](#Local-Navigation)\n",
    "   \n",
    "    2.4 [Control](#Control)\n",
    "   \n",
    "    2.5 [Filter](#Filter)\n",
    "\n",
    "    2.6 [Kidnapping](#Kidnapping)\n",
    "\n",
    "    2.7 [utils](#utils)\n",
    "\n",
    "4. [Conclusion](#Conclusion)\n",
    "\n",
    "5. [Sources](#Sources)\n",
    "\n",
    "6. [Code to run the project](#Code)"
   ]
  },
  {
   "cell_type": "markdown",
   "id": "c42b81a0-c8c6-4a02-b590-e4010b1f68f4",
   "metadata": {},
   "source": [
    "# Introduction"
   ]
  },
  {
   "cell_type": "markdown",
   "id": "90603bb3-b751-4b2c-a950-a355fdae7c4c",
   "metadata": {},
   "source": [
    "## Project Description"
   ]
  },
  {
   "cell_type": "markdown",
   "id": "d2d452ce-8790-4419-93e8-489bd609b423",
   "metadata": {
    "jp-MarkdownHeadingCollapsed": true
   },
   "source": [
    "This project was divided in four steps :\n",
    "- **Create an environement:** An environment has to be created for the Thymio. This environment must contain a set of obstacles that the Thymio would avoid by using the global navigation which are detected only by the camera during the initialization step, without using the sensors.\n",
    "\n",
    "- **Find the best path:** The Thymio and the goal have to be placed at a random position in the map (environement). From this start position, the Thymio has to find the best path to reach the goal. The setup can be changed multiple times to show the robustness of the program, as long as the robot is not moving the obstacles, the goal and the starting position of the robot can be changed at your convinience. This process is demonstated below:\n",
    "![change of setup](./img/chgt_setup.gif)\n",
    "\n",
    "\n",
    "- **Motion Control & Position Estimation:** The Thymio has to be controlled to help it follow correctly the found path. A filter will then make it possible to estimate the position. On the gifs below the position estimated by the camera is shown in red and the position estimated by the encoders is shown in yellow. At the begining, the encoders start at position (0,0) and then converge to the position of the robot. The final position of the robot is estimated using a Kalman filter with the positions of the camera and the encoders and is shown in green. \n",
    "\n",
    "\n",
    ">|Two estimations                                       |Final estimation |\n",
    "|:-----------------------------------------------:|:-------------------------------------------------------------------------------:|\n",
    "| ![two_estim](./img/base_configuration.gif) | ![final_estim](./img/base_vert.gif) |\n",
    "\n",
    "during this steps the robot can be kidnapped and placed somewhere else, or the tracking with the camera can be deactivated and the position is estimated only with the encoders. Those two cases are shown below:\n",
    "\n",
    ">|Kidnapping                                       |Position estimation using only the encoders |\n",
    "|:-----------------------------------------------:|:-------------------------------------------------------------------------------:|\n",
    "| ![Kidnapping](./img/kidnapping.gif) | ![only encoders](./img/encodeurs.gif) |\n",
    "\n",
    "- **Obstacles Avoidance:** Once the robot is following the pre-calculated path, some physical obstacles can be placed on front of him which he will have to avoid. This is shown below:\n",
    "\n",
    "![Obstacles avoidance](./img/local_obstacle.gif)\n"
   ]
  },
  {
   "cell_type": "markdown",
   "id": "cf545321-663e-4f7a-b6fc-e5dac9548d72",
   "metadata": {},
   "source": [
    "## Environment Setup"
   ]
  },
  {
   "cell_type": "markdown",
   "id": "170cd1c8-2efc-47ef-90d7-e59b82db2175",
   "metadata": {
    "jp-MarkdownHeadingCollapsed": true
   },
   "source": [
    "The environment consist of four main things : global obstacles, local obstacles, the goal, the robot.<br>\n",
    "- For the global obstacles we used black paper sheets with polygonal forms so they could be easily detected by the camera, furthermore, this will allow us to use the shortest path algorithm.\n",
    "- For the local obstacles we decided to use small round obstacles (cylinders) since having squared obstacles would have made the avoidance phase more complicated due to the presence of corners.\n",
    "- For the goal we chose a red star, the form was completely random however the colour was chosen so it could be easily differentiated by the camera from the rest of present objects.\n",
    "- For the robot, we decided to put also a form on top of it (a green circle) so it could facilitate its detection for the camera.\n",
    "\n",
    "<div>\n",
    "<img src=\"img/setup.png\" width=\"400\"/>\n",
    "</div>\n"
   ]
  },
  {
   "cell_type": "markdown",
   "id": "e75b9847-94e8-4885-9e3e-224b98f82ade",
   "metadata": {},
   "source": [
    "## Project Structure"
   ]
  },
  {
   "cell_type": "markdown",
   "id": "5dc70769-cbfe-4530-891f-433ca5626ab1",
   "metadata": {},
   "source": [
    "### Finite State Machine (FSM) Transitions and Module Descriptions\n",
    "\n",
    "In our project, we developed a robot navigation system that implements a Finite State Machine (FSM) to manage the transitions between global navigation, local obstacle avoidance and kidnapping. The FSM enables the robot to adapt its behavior based on sensor inputs, ensuring efficient navigation in its environment.\n",
    "\n",
    "#### FSM Transitions Overview\n",
    "\n",
    "The FSM comprises several states:\n",
    "\n",
    "- **State 0**: Initialization and localization of the robot, goal, and obstacles.\n",
    "- **State 1**: Global navigation towards the goal using pre-planned paths.\n",
    "- **State 2**: Local obstacle avoidance when unexpected obstacles are detected.\n",
    "- **State 3**: Kidnapped state if the robot is lifted or moved unexpectedly.\n",
    "- **State 4**: Delay state after local obstacle avoidance to safely clear the obstacle\n",
    "\n",
    "To better illustrate this idea :\n",
    "\n",
    "![FSM](./img/FSM.png)\n",
    "\n",
    "### Description of the FSM functions\n",
    "| Function               | Arguments                                                                                                               | Return              | Short Description                                                                                 |\n",
    "|------------------------|-------------------------------------------------------------------------------------------------------------------------|---------------------|---------------------------------------------------------------------------------------------------|\n",
    "| `globalPlanning`       | `image (cv2 image)`, `thymio (object of Robot class)`, `SCALING_FACTOR (int)`, `template_rbt (cv2 image)`, `template_goal (cv2 image)`                                                   | `[goal (np.array), obst_list (list)]` | Plans a global path by detecting obstacles, tracking the robot, and finding the shortest path.    |\n",
    "| `local_avoidance`      | `speed (int)`, `node`, `thymio (object of Robot class)`, `client`, `scale_img (int)`, `state (int)`, `image (cv2 image)`, `template_robot (cv2 image)`, `previous_speed (list, optional)` | `None`              | Handles local obstacle avoidance using proximity sensors and vision-based robot tracking.         |\n",
    "| `updateState`         | `state (int)`, `client`, `node`, `thymio (object of Robot class)`                                                                                   | `State (int)`               | Updates the robot's state based on proximity sensor readings and checks for kidnapping detection by monitoring the value of the ground proximity sensor. |\n",
    "|`robotMoving` | `thymio (object of Robot class)`, `image (cv2 image)`, `template_rbt (cv2 image)`, `node`, `client`, `SCALE_IMG (int)`| `is_finished (bool)`| Check the position of the robot acording to the camera and the encoders and apply a Kalman filter to estimate the position then use it to move the robot towards its target|\n",
    "|`kidnappingDetection` | `node`, `client`| `True` or `False (bool)`| Detect if the robot is kidnapped using ground proximity sensor, if the robot is lifted then it is kidnapped |\n",
    "\n",
    "The code of the main loop is shown below:"
   ]
  },
  {
   "cell_type": "code",
   "execution_count": null,
   "id": "7a7fa77e-8a23-42d3-a757-d2b1be2e0491",
   "metadata": {},
   "outputs": [],
   "source": [
    "#### CONSTANTS\n",
    "# constants for movement\n",
    "DIST_TARGET_CTRL = 30  # min distance between the robot and a target that counts as \"the robot cleared the target\"\n",
    "SPEED = 150\n",
    "\n",
    "# constants for taking into account the distance between the plan and the camera\n",
    "SCALE_IMG = 55\n",
    "SCALING_FACTOR = 40\n",
    "\n",
    "### initialization of the robot \n",
    "thymio = Robot(DIST_TARGET_CTRL,SPEED)\n",
    "\n",
    "### initialization of the computer vision\n",
    "cap = cv2.VideoCapture(0, cv2.CAP_DSHOW)  \n",
    "[template_rbt, template_goal] = defTemplate(SCALE_IMG)\n",
    "goal = [0, 0]\n",
    "foundG = False\n",
    "\n",
    "#### initialization of the FSM\n",
    "state = 0\n",
    "is_finished = False\n",
    "\n",
    "# check if the camera is open\n",
    "if not cap.isOpened():\n",
    "    print(\"Error: Could not access the camera\")\n",
    "else:\n",
    "    # allow some time for the camera to initialize\n",
    "    time.sleep(2)\n",
    "    ### MAIN LOOP\n",
    "    while True: \n",
    "        success, image = cap.read()\n",
    "        # check if the camera reads images\n",
    "        if not success:\n",
    "            cap.release()\n",
    "            print(\"Error: Could not read the camera\")\n",
    "            break\n",
    "        \n",
    "        \n",
    "        clear_output(True)\n",
    "        \n",
    "        ## initial situation, localisation of the rbt, the goal and the obstacles\n",
    "        ## once everything is located press \"l\" to start the program \n",
    "        if state == 0:\n",
    "            [goal, obst_list] = globalPlanning(image, thymio, SCALING_FACTOR, template_rbt, template_goal)\n",
    "            if cv2.waitKey(1) & 0xFF==ord('l'): \n",
    "                state = 1\n",
    "                \n",
    "        ## robot moving\n",
    "        # check if the robot is either kidnapped or meeting a local obstacles \n",
    "        if(state == 1 or state == 2):\n",
    "            state = updateState(state, client, node, aw, thymio)\n",
    "\n",
    "        # robot moving following the global navigation and leaving the loop if the goal has been reaching\n",
    "        if state == 1:            \n",
    "            is_finished = await robotMoving(thymio, image, template_rbt, node, client, SCALE_IMG)     \n",
    "            if (is_finished):\n",
    "                cap.release()\n",
    "                break \n",
    "                \n",
    "        # robot moving in case of local obstacle\n",
    "        if state == 2:\n",
    "            await localAvoidance(SPEED, node, aw, thymio, client, SCALE_IMG, state, image, template_rbt)\n",
    "\n",
    "        # wait some time after kidnapping detection, then go back to state = 0 to re scan the entire map\n",
    "        if state == 3:\n",
    "            obst_list = []\n",
    "            if((time.time() - thymio.kid_start) > 5):\n",
    "                state = 0\n",
    "\n",
    "        # after avoiding a local obstacle, go forward to clear the obstacle\n",
    "        if state == 4:\n",
    "            # Track the robot's position using vision\n",
    "            [(thymio.x_cam, thymio.y_cam), thymio.found] = robotTracking(image, template_rbt)\n",
    "            \n",
    "            thymio.x, thymio.var_x = kalman(thymio.x_enc, thymio.x_cam, thymio.var_x, VAR_CAM, VAR_ENC, thymio.found)\n",
    "            thymio.y, thymio.var_y = kalman(thymio.y_enc, thymio.y_cam, thymio.var_y, VAR_CAM, VAR_ENC, thymio.found)\n",
    "            thymio.x_enc, thymio.y_enc = thymio.x, thymio.y\n",
    "\n",
    "            # time variable for the computation of the encoder position\n",
    "            thymio.last_move = time.time()\n",
    "            thymio.start_move_old = thymio.start_move\n",
    "            thymio.start_move = time.time()\n",
    "            thymio.x_enc, thymio.y_enc = await thymio.pos_encodeur(node, client, SCALE_IMG)\n",
    "            \n",
    "            if((time.time() - thymio.avoid_time) > 2):\n",
    "                state = 1      \n",
    "        \n",
    " \n",
    "        # image drawing and display\n",
    "        drawRobot(image, thymio, template_rbt, False)\n",
    "        drawGoal(image, goal, template_goal)\n",
    "        drawObstacle(image, obst_list)\n",
    "        cv2.imshow('Computer Vision', image) \n",
    "        \n",
    "        # quit when 'q' is pressed\n",
    "        if cv2.waitKey(1) & 0xFF==ord('q'): \n",
    "            cap.release()\n",
    "            break\n",
    "\n",
    "stop_robot(node)\n",
    "cv2.destroyAllWindows()"
   ]
  },
  {
   "cell_type": "markdown",
   "id": "ea90b4b6-4ccb-4321-bbd3-cb4902fc0508",
   "metadata": {},
   "source": [
    "# Modules"
   ]
  },
  {
   "cell_type": "markdown",
   "id": "631e40d6-16be-4a10-a40b-b3806cb96f74",
   "metadata": {},
   "source": [
    "## Computer Vision"
   ]
  },
  {
   "cell_type": "markdown",
   "id": "9c907c1f-9c05-4f97-a475-579fee179f0a",
   "metadata": {},
   "source": [
    "### Concept of the CV:\n",
    "Most of the informations for this part comes from the documentation of the library `OpenCV`, [source 3](#Source3)\n",
    "\n",
    "The main goals of the CV are the following:\n",
    "- locate and track the robot\n",
    "- locate the obstacles\n",
    "- locate the goal\n",
    "\n",
    "This is achieved in two steps:\n",
    "1. Initialization step:\n",
    "    - define the templates that are used to locate the robot and the goal using _defTemplate_. \n",
    "    - locate the robot using `robotTracking`\n",
    "    - locate the goal using `findGoal`\n",
    "    - locate the obstacles using `findObstacles`\n",
    "2. Movement step:\n",
    "    - continuously locate the robot using `robotTracking` and send the position to the Kahlmann filter\n",
    "  \n",
    "The first step happens at the begining of the program and after a kidnapping."
   ]
  },
  {
   "cell_type": "markdown",
   "id": "56b5d3c0-578b-49aa-9927-c8757c538f78",
   "metadata": {},
   "source": [
    "### Functions\n",
    "All the functions needed for the CV can be found in the _computerVision.py_ file and are listed and detailled below:\n",
    "<span style=\"color: #2980B9 ;\">\n",
    "\n",
    ">| function     | arguments             | return                        | short description                                                   | \n",
    "|:-------------:|:---------------------:|:-----------------------------:|:-------------------------------------------------------------------:|\n",
    "| `defTemplate`   | `None`                  | `template_robot (cv2 image)`, `template_goal (cv2 image)` | initialize the template for the robot and the goal using two images |\n",
    "| `findObstacle`  | `image (cv2 image)`                 | `image_obst (cv2 image)`                    | use range and thresholding to extract an image where only the obstacles are visible (white shapes on a black background), this image will be used by the `globalNav.py` module to compute the shortest path               |\n",
    "| `findGoal`      | `image (cv2 image)`, `template_goal (cv2 image)`  | `goal_pos (np.array)`, `found (bool)`               | use template matching to locate the goal and, if the matching is high enough return the position of the goal and `found` as `True`, else return `found` as `False`                                                        |\n",
    "| `robotTracking` | `image (cv2 image)`, `template_robot (cv2 image)` | `robot_pos (np.array)`, `found (bool)`              | use template matching to locate the robot and, if the matching is high enough return the position of the robot and `found` as `True`, else return `found` as `False`                                                         |\n",
    "\n",
    "</span>"
   ]
  },
  {
   "cell_type": "markdown",
   "id": "928b1ba6-c01f-4023-a15b-d9c6fbf20f37",
   "metadata": {},
   "source": [
    "##### In depth description of the functions:\n",
    "###### defTemplate:\n",
    "This function takes two images, `template_robot.png` and `template_goal.png`, transforms them into grayscale, in order to allow the use of the function `matchTemplate` from the library `openCV`, and scales them in order to account for the variation of the distance between the camera and the plan. It then returns them. The process is ilustrated below: \n",
    ">| `template_robot.png` (top), `template_goal.png` (bot) | `template_robot` (top), `template_goal` (bot) |\n",
    "|:------------------------------------------------------:|:---------------------------------------------:|\n",
    "| ![template_robot.png](./img/template_robot.png)        | ![template_robot](./img/small_robot.png)      |\n",
    "| ![template_goal.png](./img/template_goal.png)          | ![template_goal](./img/small_goal.png)        |"
   ]
  },
  {
   "cell_type": "markdown",
   "id": "bd412ff9-7da9-4b16-bf76-f5b0322fa414",
   "metadata": {},
   "source": [
    "###### findObstacle:\n",
    "This function takes the image captured by the camera and in order to extract the position of the obstacles defines a range for the values that are considered as black color, takes only the part of image that are in this range and apply filtering and thresholding. The filtering step is done using `medianBlur` from `OpenCV` with a kernel of 5. The thresholding step is done with `threshold` from `OpenCV` and treat all value above 127 (value `OBST_THRESHOLD`) as 255 and put everything else as 0. The two treatment steps are here to add some reliability with regard to the change of light and setup, and make sure that the obstacles are correctly detected. After being treated the image is returned and will be used by the function `find_shortest_path` of the module `globalNav.py` that will return the obstacles list and an image with the obstacles highlighted to display to the user. The process is ilustrated below:\n",
    ">| `image`                                      | `image_obst`                           | final image after the use of the function `drawObstacles` from the module `utils.py` |\n",
    "|:---------------------------------------------:|:--------------------------------------:|:--------------------------------------------------------:|\n",
    "|![image](./img/plan.png)|![image_obst](./img/image_obst.png)| ![image with highlighted obstacles](./img/image_obst_high.png)   |\n",
    ">\n",
    "The code is displayed below:"
   ]
  },
  {
   "cell_type": "code",
   "execution_count": null,
   "id": "670f42b1-09a9-40c9-8903-891c07ba7a37",
   "metadata": {},
   "outputs": [],
   "source": [
    "# find obstacle using range and thresholding\n",
    "def findObstacle(image):\n",
    "    # define the range of value that are considered as black color\n",
    "    lower_range = np.array([0, 0, 0], dtype = \"uint8\")\n",
    "    upper_range = np.array([UP_VAL, UP_VAL, UP_VAL], dtype = \"uint8\")\n",
    "    mask = cv2.inRange(image, lower_range, upper_range)\n",
    "    # filtering\n",
    "    filtered_img = cv2.medianBlur(mask, KERNEL) \n",
    "    # thresholding\n",
    "    ret, image_obst = cv2.threshold(filtered_img, OBST_THRESHOLD, 255, 0)  \n",
    "    return image_obst"
   ]
  },
  {
   "cell_type": "markdown",
   "id": "f01ba77b-c41c-4c34-8895-c6f04479c0dc",
   "metadata": {},
   "source": [
    "The two following functions opperate in a similar way, the main difference is that the function `robotTracking` is called everytime the camera captures a new image, where the `findGoal` function is only called during the initialization step.\n",
    "###### findGoal:\n",
    "This function makes use of the `matchTemplate` function from the library `OpenCV` in order to locate the goal, using the template `template_goal` defined with `defTemplate`. It uses the option `cv2.TM_CCOEFF_NORMED` which seemed to give the best results. The value return by `matchTemplate` is then passed to the function `minMaxLoc` of `OpenCV` in order to find the place in the image where the matching is the best, and the matching value. To avoid the detection of incorrect shapes a threshold is used, after many tests `GOAL_THRESHOLD` has been set at _0.7_. If the highest matching value is below the threshold the function will return an empty array as `goal_pos` and `found`_ as `False`. If the highest matching value is more than the threshold, the function will return the position of the highest matching value as `goal_pos` and `found` as `True`. \n",
    ">| `image`                                        | final image after the use of the function `drawGoal` from the module `utils.py` |\n",
    "|:-----------------------------------------------:|:-------------------------------------------------------------------------------:|\n",
    "| ![image](./img/plan.png) | ![final image](./img/goal.png)                                        |\n",
    "\n",
    "Note: given the shape of the goal (a star), and the limitation of `templateMatching` when it comes to orientation, the goal needs to be pointing in the same direction as in the image `template_goal.png` (the point of the star upward).\n",
    "\n",
    "The code is displayed below:"
   ]
  },
  {
   "cell_type": "code",
   "execution_count": null,
   "id": "7f99fb74-c2e8-4a1c-808a-cd918d9223a0",
   "metadata": {},
   "outputs": [],
   "source": [
    "# find goal using matchTemplate\n",
    "def findGoal(image, template):\n",
    "    w, h  = template.shape[::-1]\n",
    "    # change to grayscale in order to use matchTemplate\n",
    "    image_gray = cv2.cvtColor(image, cv2.COLOR_BGR2GRAY)\n",
    "    res = cv2.matchTemplate(image_gray, template, cv2.TM_CCOEFF_NORMED)\n",
    "    _, max_val, _, max_loc = cv2.minMaxLoc(res)\n",
    "    # test if the matching is high enough\n",
    "    if max_val > GOAL_THRESHOLD:\n",
    "        found = True\n",
    "        # get the middle of the template\n",
    "        center = (max_loc[0] + w//2, max_loc[1] + h//2)\n",
    "        return [center, found]\n",
    "    else: \n",
    "        found = False\n",
    "        return [[], found]"
   ]
  },
  {
   "cell_type": "markdown",
   "id": "80cab6d4-f051-41b6-8729-aca58a224537",
   "metadata": {
    "execution": {
     "iopub.execute_input": "2024-12-05T08:39:15.190655Z",
     "iopub.status.busy": "2024-12-05T08:39:15.189645Z",
     "iopub.status.idle": "2024-12-05T08:39:15.205059Z",
     "shell.execute_reply": "2024-12-05T08:39:15.202567Z",
     "shell.execute_reply.started": "2024-12-05T08:39:15.190655Z"
    }
   },
   "source": [
    "###### robotTracking:\n",
    "This function makes use of the `matchTemplate` function from the library `OpenCV` in order to locate the green circle placed on top of the robot, using the template `template_robot` defined with `defTemplate`. It uses the option `cv2.TM_CCOEFF_NORMED` which seemed to give the best results. The value return by `matchTemplate` is then passed to the function `minMaxLoc` of `OpenCV` in order to find the place in the image where the matching is the best, and the matching value. To avoid the detection of incorrect shapes a threshold is used, after many tests `ROBOT_THRESHOLD` has been set as _0.8_. If the highest matching value is below the threshold the function will return _(0,0)_ as `robot_pos` and`found`_ as `False`. If the highest matching value is more than the threshold, the function will return the position of the highest matching value as `robot_pos` and `found` as `True`. The circle used for the robot being less complex than the star used for the goal, the threshold is higher because `matchTemplate` had less trouble finding this template. \n",
    ">| `image`                                        | final image after the use of the function `drawRobot` from the module `utils.py` |\n",
    "|:-----------------------------------------------:|:-------------------------------------------------------------------------------:|\n",
    "| ![image](./img/plan.png) | ![final image](./img/robot.png)                                        |\n",
    "\n",
    "Note: the circle has been chosen because it fixes the problem of orientation of `templateMatching`. We know that a lot of groups used ArUco in ordrer to locate the robot and to extract its orientation easily, but our solution worked fine for us. After many tests a black circle as template seems to be the best choice to track the green circle used to identify the robot.\n",
    "\n",
    "The code is displayed below:"
   ]
  },
  {
   "cell_type": "code",
   "execution_count": null,
   "id": "569150f6-1161-4545-a3cb-b0aed38c163a",
   "metadata": {},
   "outputs": [],
   "source": [
    "# track the robot using matchTemplate\n",
    "def robotTracking(image, template):\n",
    "    w, h  = template.shape[::-1]\n",
    "    # change to grayscale in order to use matchTemplate\n",
    "    image_gray = cv2.cvtColor(image, cv2.COLOR_BGR2GRAY)\n",
    "    res = cv2.matchTemplate(image_gray, template, cv2.TM_CCOEFF_NORMED)\n",
    "    _, max_val, _, max_loc = cv2.minMaxLoc(res)\n",
    "    # test if the matching is high enough\n",
    "    if max_val > ROBOT_THRESHOLD:\n",
    "        found = True\n",
    "        # get the middle of the template\n",
    "        center = (max_loc[0] + w//2, max_loc[1] + h//2)\n",
    "        return [center, found]\n",
    "    else: \n",
    "        found = False\n",
    "        return [(0, 0), found]"
   ]
  },
  {
   "cell_type": "markdown",
   "id": "4cf014a5-f268-4022-bdad-50d1e5b15d76",
   "metadata": {},
   "source": [
    "Note on the following variables and constants:\n",
    "- `OBST_THRESHOLD`\n",
    "- `UP_VAL`\n",
    "- `GOAL_THRESHOLD`\n",
    "- `ROBOT_THRESHOLD`\n",
    "- `size_factor`\n",
    "\n",
    "The performance of the functions detailled above varies greatly depending on the setup and especially the light (shadows, more or less vivid colors). These parameters were used to counteract the effect of said variations. The values of these parameters may differ between the submitted code and the code used during the presentation, as they need to be adjusted based on variations in the setup."
   ]
  },
  {
   "cell_type": "markdown",
   "id": "6fcc0a55-8941-40ef-9f56-b1b6da6244ff",
   "metadata": {},
   "source": [
    "## Global Navigation"
   ]
  },
  {
   "cell_type": "markdown",
   "id": "b9252765-5674-42f8-8941-22e9802234ca",
   "metadata": {},
   "source": [
    "### Initial Approach and Challenges\n",
    "\n",
    "Initially, we attempted to use the `pyvisgraph` library's visibility graphs as well as its built-in `shortest_path` functions to navigate around obstacles. Within this method, we tried to rely solely on the corners of the obstacles, which was providing limited precision. Additionally, we experienced performance issues such as lagging and rendering delays, possibly due to the computational complexity of updating the visibility graph in real-time.\n",
    "\n",
    "### Implementation of A* Algorithm\n",
    "\n",
    "To overcome these challenges, we switched to using the A* algorithm for pathfinding. This approach allowed us to:\n",
    "\n",
    "- **Use detailed obstacle contours**:  \n",
    "  By considering more points along the obstacle contours, we achieved higher precision in path planning.\n",
    "\n",
    "- **Generate continuous paths**:  \n",
    "  The A* algorithm provided smoother paths, essential for efficient robot navigation.\n",
    "\n",
    "However, this method initially produced paths with hundreds of points, which was impractical for the robot to follow precisely, as the Thymio tried to go through exactly all the points, which made him sometimes go back to try to go through a specific point left behind.\n"
   ]
  },
  {
   "cell_type": "markdown",
   "id": "9b71b9bf-e9cf-4bdc-99ba-e9ce5617fd4c",
   "metadata": {},
   "source": [
    "### Path Simplification\n",
    "\n",
    "To solve the issue of the path being too densely populated with points, we used the Ramer-Douglas-Peucker algorithm for path simplification. This algorithm works by reducing the number of points in a path, while preserving its overall shape and important features. It does this by recursively eliminating points that are within a certain distance (epsilon) from a straight line that is connecting two significant points.\n",
    "\n",
    "#### Here's how it operates:\n",
    "\n",
    "1. **Starting line Segment**:  \n",
    "   The algorithm begins by drawing a straight line between the first and last points of the path.\n",
    "\n",
    "2. **Finding the point of maximum deviation**:  \n",
    "   It then calculates the perpendicular distance of all intermediate points to this line. The point with the maximum distance from the line is identified.\n",
    "\n",
    "3. **Recursive simplification**:  \n",
    "   - If the maximum distance is greater than a specified threshold (epsilon), this point is considered significant, and the path is split at this point.\n",
    "   - The algorithm then recursively processes the two resulting segments.\n",
    "   - If the maximum distance is less than epsilon, all intermediate points are removed, and the path is represented by the starting and ending points of the segment.\n",
    "\n",
    "To ensure that the simplified path contains no more than a certain number of points (in our case a maximum of 20), we adjust the epsilon value using a binary search method:\n",
    "\n",
    "**Binary search for epsilon**:\n",
    "- We start with a range of epsilon values.\n",
    "- By testing different epsilon values within this range, we observe how many points the simplified path contains.\n",
    "- We iteratively narrow down the epsilon value until we achieve a simplified path that meets our maximum point criteria.\n",
    "\n",
    "By applying this algorithm, we could effectively reduce the number of points in the path from approximately 700 points initially, to a maximum of 20 points, while maintaining the critical turns of Thymio's path. This allows the robot to follow a more streamlined path, without the complexity and impracticality of an overly detailed route.\n",
    "\n",
    "The code is displayed below:"
   ]
  },
  {
   "cell_type": "code",
   "execution_count": null,
   "id": "ddb9edd6-0544-45eb-8095-667d4145d013",
   "metadata": {},
   "outputs": [],
   "source": [
    "# Simplifies the path using the Ramer-Douglas-Peucker algorithm to have at most max_points.\n",
    "def simplify_path_rdp(path, max_points=20):\n",
    "    # Ramer-Douglas-Peucker algorithm.\n",
    "    def rdp(points, epsilon):\n",
    "        if len(points) < 3:\n",
    "            return points\n",
    "\n",
    "        # Line from start to end\n",
    "        start, end = points[0], points[-1]\n",
    "        line = end - start\n",
    "        line_norm = np.hypot(line[0], line[1])\n",
    "        if line_norm == 0:\n",
    "            dists = np.hypot(*(points - start).T)\n",
    "        else:\n",
    "            dists = np.abs(np.cross(line, start - points)) / line_norm\n",
    "\n",
    "        index = np.argmax(dists)\n",
    "        max_dist = dists[index]\n",
    "\n",
    "        if max_dist > epsilon:\n",
    "            # Recursive call\n",
    "            left = rdp(points[:index+1], epsilon)\n",
    "            right = rdp(points[index:], epsilon)\n",
    "            return np.vstack((left[:-1], right))\n",
    "        else:\n",
    "            return np.array([start, end])\n",
    "\n",
    "    # Convert path to NumPy array\n",
    "    points = np.array(path)\n",
    "\n",
    "    # Adjust epsilon to get at most max_points\n",
    "    epsilon_min = 0\n",
    "    epsilon_max = np.hypot(*(points[-1] - points[0]))  # Maximum possible distance\n",
    "\n",
    "    # Binary search to find the right epsilon\n",
    "    for _ in range(100):\n",
    "        epsilon = (epsilon_min + epsilon_max) / 2\n",
    "        simplified = rdp(points, epsilon)\n",
    "        if len(simplified) > max_points:\n",
    "            epsilon_min = epsilon\n",
    "        else:\n",
    "            epsilon_max = epsilon\n",
    "        if epsilon_max - epsilon_min < 1e-5:\n",
    "            break\n",
    "\n",
    "    # Final simplified path\n",
    "    simplified = rdp(points, epsilon_max)\n",
    "    return simplified.astype(int)"
   ]
  },
  {
   "cell_type": "markdown",
   "id": "891b720f-bb94-4659-a391-8926107b83b0",
   "metadata": {},
   "source": [
    "### Demonstration of our global path planning computing given a example of a preprocessed image of the robot's global environment as input (as per our code):"
   ]
  },
  {
   "cell_type": "markdown",
   "id": "726f497b-3b33-4a55-a7a6-c3b1ea17db32",
   "metadata": {},
   "source": [
    "##### Code to be run by the reader to display the results"
   ]
  },
  {
   "cell_type": "code",
   "execution_count": 1,
   "id": "4a272ff5-656e-4c9f-9c13-a9cadeed8f56",
   "metadata": {
    "execution": {
     "iopub.execute_input": "2024-12-05T14:25:48.988186Z",
     "iopub.status.busy": "2024-12-05T14:25:48.987746Z",
     "iopub.status.idle": "2024-12-05T14:25:56.734036Z",
     "shell.execute_reply": "2024-12-05T14:25:56.733339Z",
     "shell.execute_reply.started": "2024-12-05T14:25:48.988145Z"
    }
   },
   "outputs": [
    {
     "data": {
      "image/png": "[encoded data removed]",
      "text/plain": [
       "<Figure size 1000x1000 with 1 Axes>"
      ]
     },
     "metadata": {},
     "output_type": "display_data"
    },
    {
     "data": {
      "image/png": "[encoded data removed]",
      "text/plain": [
       "<Figure size 1000x1000 with 1 Axes>"
      ]
     },
     "metadata": {},
     "output_type": "display_data"
    },
    {
     "data": {
      "image/png": "[encoded data removed]",
      "text/plain": [
       "<Figure size 1000x1000 with 1 Axes>"
      ]
     },
     "metadata": {},
     "output_type": "display_data"
    },
    {
     "data": {
      "image/png": "[encoded data removed]",
      "text/plain": [
       "<Figure size 1000x1000 with 1 Axes>"
      ]
     },
     "metadata": {},
     "output_type": "display_data"
    },
    {
     "name": "stdout",
     "output_type": "stream",
     "text": [
      "Shortest Path:\n",
      " [[56, 56], [269, 269], [307, 290], [316, 299], [316, 316], [414, 413], [414, 453], [417, 462], [426, 471], [426, 473], [441, 487], [441, 489], [456, 503], [456, 505], [471, 520], [521, 520], [600, 600]]\n"
     ]
    }
   ],
   "source": [
    "!pip install opencv-python --quiet\n",
    "import cv2\n",
    "from globalNav import show_image, find_shortest_path\n",
    "\n",
    "# Load the image\n",
    "image_path = \"./img/image_obst.png\"\n",
    "image = cv2.imread(image_path)\n",
    "scalingFactor = 30\n",
    "start = (56, 56)  # Start coordinates\n",
    "goal = (600, 600)  # Goal coordinates\n",
    "verbose = True  # Enable visualizations\n",
    "\n",
    "shortest_path, contours = find_shortest_path(image, scalingFactor, start, goal, verbose)\n",
    "\n",
    "print(\"Shortest Path:\\n\", shortest_path)"
   ]
  },
  {
   "cell_type": "markdown",
   "id": "76950581-eb00-428a-8040-c56d910892b5",
   "metadata": {},
   "source": [
    "### Description of the functions used for the Global navigation module\n",
    "\n",
    "| Function                     | Arguments                                                                                  | Return                | Short Description                                                                                  |\n",
    "|------------------------------|--------------------------------------------------------------------------------------------|-----------------------|--------------------------------------------------------------------------------------------------|\n",
    "| `show_image`                | `img (np.ndarray)`, `title (str, optional)`                                               | `None`               | Displays an image using Matplotlib, supporting both grayscale and color images.                  |\n",
    "| `prepare_image`             | `frame (np.ndarray)`                                                                       | `thresh (np.ndarray)`         | Preprocesses an image for contour detection by applying blurring and thresholding. This only aims to add further robustness to our system in case of particularly non compliant setup (in the displayed case this is not useful)             |\n",
    "| `approximate_contour`       | `contour (np.ndarray)`, `epsilon_factor (float, optional)`                                 | `contour_apporx (np.ndarray)`         | Simplifies a contour by approximating it to a polygon with fewer points.                         |\n",
    "| `expand_contours`           | `contours (list of np.ndarray)`, `scaling_factor (int)`                                    | `expanded_contours (list of np.ndarray)` | Expands contours outward to account for the robot's size.                                         |\n",
    "| `create_occupancy_grid`     | `image_shape (tuple)`, `contours (list of np.ndarray)`                                     | `occupancy_grid (np.ndarray)`         | Generates an occupancy grid from contours for pathfinding.                                       |\n",
    "| `heuristic`                 | `a (tuple)`, `b (tuple)`, `method (str, optional)`                                         | `Euclidia distance betweem a and b (float)`              | Computes the heuristic distance (Euclidean or Manhattan) between two points for A*.              |\n",
    "| `a_star_search`             | `occupancy_grid (np.ndarray)`, `start (tuple)`, `goal (tuple)`                             | `path (list of tuples)` or `None` | Implements the A* algorithm to find the shortest path between start and goal.                    |\n",
    "| `simplify_path`             | `path (list of tuples)`, `max_points (int, optional)`                                      | `path (np.ndarray)`         | Reduces the number of points in a path by detecting significant direction changes.               |\n",
    "| `find_shortest_path`        | `image_path (str)`, `scalingFactor (int)`, `start (tuple)`, `goal (tuple)`, `verbose (bool, optional)` | `shortest_path, expanded_contours (tuple)`             | Processes an image to find contours and computes the shortest path using A*.                     |\n"
   ]
  },
  {
   "cell_type": "markdown",
   "id": "fef3a0c2-259b-4870-a753-ae9dfb1e2c5e",
   "metadata": {},
   "source": [
    "## Local Navigation"
   ]
  },
  {
   "cell_type": "markdown",
   "id": "97ea1ab7-8bb3-42c1-b0d9-87e218f672af",
   "metadata": {},
   "source": [
    "A complete example of local navigation is shown below:\n",
    "\n",
    "![local navigation](./img/local_obstacle.gif)\n",
    "\n",
    "In more details:\n",
    "\n",
    "### 1. Switching between Global Navigation and Local Obstacle Avoidance\n",
    "For it to navigate effectively within our project, the robot must be able to switch between global navigation and local obstacle avoidance. We achieved this by defining specific thresholds for the proximity sensors to trigger state transitions.\n",
    "\n",
    "#### Thresholds for state transitions\n",
    "\n",
    "- **High threshold** (`OBST_THRESHOLD_HIGH = 3500`):  \n",
    "  If any proximity sensor reading exceeds this value, the robot switches from global navigation (State 1) to local obstacle avoidance (State 2).\n",
    "\n",
    "- **Low threshold** (`OBST_THRESHOLD_LOW = 2200`):  \n",
    "  If all proximity sensor readings fall below this value, the robot transitions back from local obstacle avoidance (State 2) to a delay state (State 4) before resuming global navigation.\n",
    "\n",
    "Note that the function `updateState` also check for kidnapping using the `kidnappingDetection` function, the process of kidnapping is explained later in the report. "
   ]
  },
  {
   "cell_type": "code",
   "execution_count": null,
   "id": "c37eed94-8553-434b-8ab5-49a048c40a8b",
   "metadata": {},
   "outputs": [],
   "source": [
    "# check for local obstacle or kidnapping\n",
    "def updateState(state, client, node, aw, thymio):\n",
    "    # Read proximity sensor values\n",
    "    prox_horizontal = read_prox_sensors(node, client, aw)\n",
    "    obst = [prox_horizontal[i] for i in range(5)]  # Sensors 0 to 4\n",
    "\n",
    "    # State 1: Goal Tracking\n",
    "    if state == 1:\n",
    "        # Check if any sensor detects an obstacle\n",
    "        if any(obst[i] > OBST_THRESHOLD_HIGH for i in range(5)):\n",
    "            state = 2  # Switch to Obstacle Avoidance\n",
    "\n",
    "    # State 2: Obstacle Avoidance\n",
    "    elif state == 2:\n",
    "        # Check if all sensors are below the low threshold\n",
    "        if all(obst[i] < OBST_THRESHOLD_LOW for i in range(5)):\n",
    "            state = 4  # Switch back to Goal Tracking\n",
    "            thymio.avoid_time = time.time()\n",
    "            node.send_set_variables(motors(thymio.SPEED, thymio.SPEED))\n",
    "\n",
    "    # Check for kidnapping\n",
    "    if kidnappingDetection(node, client):\n",
    "        stop_robot(node)\n",
    "        state = 3  # Kidnapped state\n",
    "        thymio.kid_start = time.time()\n",
    "\n",
    "    return state"
   ]
  },
  {
   "cell_type": "markdown",
   "id": "e93ad769-0893-462b-8682-7c666696fa9a",
   "metadata": {},
   "source": [
    "### 2. Local Navigation using Artificial Neural Network (ANN)\n",
    "\n",
    "We implemented an ANN-based approach inspired from [Source 4](#Source4) for local obstacle avoidance. The ANN processes sensor inputs and computes motor outputs to navigate around obstacles.\n",
    "\n",
    "#### ANN parameters\n",
    "\n",
    "- **Sensitivity factor** (`SENSITIVITY_FACTOR = 0.5`):  \n",
    "  Modulates the robot's responsiveness to obstacles.\n",
    "\n",
    "- **Smoothing factor** (`SMOOTHING_FACTOR = 1.5`):  \n",
    "  Helps in smoothing out abrupt changes in motor speeds.\n",
    "\n",
    "- **Weights** (`w_l` and `w_r`):  \n",
    "  Predefined weights influencing the motor outputs based on sensor inputs."
   ]
  },
  {
   "cell_type": "code",
   "execution_count": null,
   "id": "53471c1c-422a-4bef-8108-c6f27b9b0cfe",
   "metadata": {},
   "outputs": [],
   "source": [
    "# Smooths the transition between two speeds.\n",
    "def smooth_speed(previous_speed, new_speed, smoothing_factor=0.9):\n",
    "    return smoothing_factor * previous_speed + (1 - smoothing_factor) * new_speed\n",
    "    \n",
    "def local_nav(sensitivity_factor, smoothing_factor, prox_horizontal, desired_speed, previous_speed):\n",
    "    \"\"\"\n",
    "    Calculates motor speeds for obstacle avoidance using an ANN approach.\n",
    "    \"\"\"\n",
    "    # weights for the neural network (left and right motors)\n",
    "    weights_left = [-40, -20, -20, 20, 35, -10, 30, 0, 8]\n",
    "    weights_right = [40, 20, -20, -20, -35, 30, -10, 8, 0]\n",
    "\n",
    "    # scaling factors\n",
    "    SENSOR_SCALE = 800\n",
    "    MEMORY_SCALE = 20\n",
    "\n",
    "    # initialize neural network inputs\n",
    "    nn_inputs = [0] * 9\n",
    "\n",
    "    # memory inputs (scaled previous speeds)\n",
    "    nn_inputs[7] = desired_speed[0] / MEMORY_SCALE\n",
    "    nn_inputs[8] = desired_speed[1] / MEMORY_SCALE\n",
    "\n",
    "    # process proximity sensor inputs with sensitivity adjustment\n",
    "    for i in range(7):\n",
    "        nn_inputs[i] = (prox_horizontal[i] / SENSOR_SCALE) * sensitivity_factor\n",
    "\n",
    "    # compute motor outputs from ANN neurons\n",
    "    motor_speeds = [0, 0]\n",
    "    for i in range(len(nn_inputs)):\n",
    "        motor_speeds[0] += nn_inputs[i] * weights_left[i]\n",
    "        motor_speeds[1] += nn_inputs[i] * weights_right[i]\n",
    "\n",
    "    # smooth the motor speeds to avoid abrupt changes\n",
    "    motor_speeds[0] = int(smooth_speed(previous_speed[0], motor_speeds[0], smoothing_factor))\n",
    "    motor_speeds[1] = int(smooth_speed(previous_speed[1], motor_speeds[1], smoothing_factor))\n",
    "\n",
    "    return motor_speeds"
   ]
  },
  {
   "cell_type": "markdown",
   "id": "987d25e0-e75f-4c03-9dd6-d7fe7836de09",
   "metadata": {},
   "source": [
    "### 3. Delay to Prevent Oscillation\n",
    "\n",
    "We observed that the robot could oscillate between States 1 and 2 when encountering obstacles close to its path. To avoid this, we introduced a delay in State 4 after obstacle avoidance. This delay allows the robot to move away from the obstacle before resuming global navigation, this reducing the likelihood of re-entering the local avoidance state immediately.\n"
   ]
  },
  {
   "cell_type": "markdown",
   "id": "0583fc3b-809e-4953-b0e3-4b94b4dd9795",
   "metadata": {},
   "source": [
    "### Description of the functions used for the Local Obstacle Avoidance module\n",
    "\n",
    "| Function                  | Arguments                                                                                     | Return                | Short Description                                                                                 |\n",
    "|---------------------------|-----------------------------------------------------------------------------------------------|-----------------------|---------------------------------------------------------------------------------------------------|\n",
    "| `read_prox_sensors`      | `node`, `client`                                                                              | `prox (List[int])`          | Asynchronously reads the robot's horizontal proximity sensors and returns their values.           |\n",
    "| `smooth_speed`           | `previous_speed (float)`, `new_speed (float)`, `smoothing_factor (float, optional)`           | `float`              | Smooths the transition between two speeds based on a smoothing factor.                           |\n",
    "| `local_nav`              | `sensitivity_factor (float)`, `smoothing_factor (float)`, `prox_horizontal (list)`, `y (list)`, `previous_y (list)` | `motor_speeds (list)`               | Calculates motor speeds for obstacle avoidance using a neural network-inspired approach.          |\n"
   ]
  },
  {
   "cell_type": "markdown",
   "id": "4d1a2723-ea8f-4eb6-8417-85bf2b3dfb5e",
   "metadata": {},
   "source": [
    "## Control"
   ]
  },
  {
   "cell_type": "markdown",
   "id": "a2b2ac22-c840-49db-ae0b-efae436e1eeb",
   "metadata": {},
   "source": [
    "### Concept of the Control\n",
    "\n",
    "The main objectives of the control system are as follows:\n",
    "\n",
    "- **Move the robot toward a target point** selected by the globalNav module.\n",
    "- **Switch to a new target** once the robot has reached the current target.\n",
    "- **Estimate the robot's position** using encoder measurements.\n"
   ]
  },
  {
   "cell_type": "markdown",
   "id": "5ee74b71-625a-434e-a5cb-a18dc5bc934f",
   "metadata": {},
   "source": [
    "### Variables of the Robot Class\n",
    "\n",
    "The module includes a `Robot` class with several internal variables.\n"
   ]
  },
  {
   "cell_type": "code",
   "execution_count": null,
   "id": "0f55ade6-c4e6-4874-bdcd-f1f605b8331c",
   "metadata": {},
   "outputs": [],
   "source": [
    "class Robot:\n",
    "    def __init__(self,dist_target,speed):\n",
    "        self.DIST_TARGET_CTRL = dist_target\n",
    "        self.SPEED = speed\n",
    "        # position variables\n",
    "        self.x = 0  \n",
    "        self.y = 0\n",
    "        self.x_old = 0\n",
    "        self.y_old = 0\n",
    "        # encoder\n",
    "        self.x_enc = 0  \n",
    "        self.y_enc = 0\n",
    "        self.x_enc_old = 0\n",
    "        self.y_enc_old = 0\n",
    "        # camera\n",
    "        self.x_cam = 0  \n",
    "        self.y_cam = 0\n",
    "        # variance of the estimate position of the thymio \n",
    "        self.var_x = 0\n",
    "        self.var_y = 0\n",
    "        \n",
    "        self.old_err = 0\n",
    "\n",
    "        # list of the points that the robot needs to go to\n",
    "        self.targets = []\n",
    "        self.target_Id = 1\n",
    "        self.found = False\n",
    "        \n",
    "        self.last_move = 0\n",
    "        self.start_move_old = 0\n",
    "        self.start_move  = 0\n",
    "\n",
    "        # starting time of the kidnapping\n",
    "        self.kid_start = 0\n",
    "        # starting time of the local obstacle avoidance\n",
    "        self.avoid_time = 0"
   ]
  },
  {
   "cell_type": "markdown",
   "id": "1504a659-b21a-4be9-abdf-ba991ae7f6bf",
   "metadata": {},
   "source": [
    "### Description of the `Robot` Class\n",
    "\n",
    "The `Robot` class contains all the variables related to the robot's state and its sensors, along with important constants.\n",
    "\n",
    "#### Constants:\n",
    "- **`DIST_TARGET_CTRL`**: Defines the maximum distance between the robot and a target, allowing it to switch to the next one, this distance is in pixels.\n",
    "- **`SPEED`**: Specifies the robot's straight-line speed.\n",
    "\n",
    "#### Variables:\n",
    "1. **Position estimation (in pixels):**\n",
    "   - `x`, `y`: Estimated position of the robot at time `t`, combining data from encoders and the camera.\n",
    "   - `x_old`, `y_old`: Estimated position of the robot at time `t-1`.\n",
    "   - `var_x`, `var_y`: Estimated variances of the robot's position in the `x` and `y` directions.\n",
    "   - `x_enc`, `y_enc`: Position of the robot estimated by the encoders at time `t`.\n",
    "   - `x_enc_old`, `y_enc_old`: Position of the robot estimated by the encoders at time `t-1`.\n",
    "   - `x_cam`, `y_cam`: Position of the robot estimated by the camera at time `t`.\n",
    "\n",
    "2. **Boolean flag:**\n",
    "   - `found`: `True` if the camera successfully detects the robot's position at time `t`.\n",
    "\n",
    "3. **Target-related variables:**\n",
    "   - `targets`: A list of points representing the robot's targets in the form `(x, y)` (in pixels).\n",
    "   - `target_Id`: Index of the current target in the `targets` list.\n",
    "\n",
    "4. **Time management (in seconds):**\n",
    "   - `last_move`, `start_move_old`, `start_move`: Measure the time elapsed between two direction changes to integrate speed.\n",
    "   - `kid_start`, `avoid_time`: Record the time when kidnapping or obstacle avoidance started.\n",
    "\n",
    "#### Variables Used in the Control:\n",
    "- **For moving the robot toward the current target:**\n",
    "  - `x`, `y`, `x_old`, `y_old`\n",
    "  - `targets`, `target_Id`\n",
    "\n",
    "- **For estimating the robot's position using encoders:**\n",
    "  - `x_enc`, `y_enc`, `x_enc_old`, `y_enc_old`\n",
    "  - `last_move`, `start_move_old`, `start_move`\n"
   ]
  },
  {
   "cell_type": "markdown",
   "id": "2c76168c-ebb4-4366-8bf3-f2ee38f61c57",
   "metadata": {},
   "source": [
    "### Methods of the `Robot` Class\n",
    "\n",
    "The following functions are defined `Robot` class methods:\n",
    "\n",
    "<span style=\"color: #2980B9;\">\n",
    "\n",
    "| **Function**   | **Arguments**               | **Returns**                 | **Short Description**                                                                                     | \n",
    "|:--------------:|:---------------------------:|:---------------------------:|:--------------------------------------------------------------------------------------------------------:|\n",
    "| `thymio_base`  | `self`                      | `x` and `y` (array of floats) | Converts coordinates from the Cartesian base to the robot relative coordinates (see Figure 1).                  |\n",
    "| `Pi`           | `self`, `err`               | `u` (float)                 | Takes the error between the direction of the robot and the desired direction (which is pointing toward the current target) as input and returns a control instruction.                                                  |\n",
    "| `control`      | `self`                      | `diff_speed` (float)        | Uses `thymio_base` to transform the target into the robot's base, computes the angular error, passes it to `Pi`, and returns the result as `diff_speed`. |\n",
    "| `move_robot`   | `self`, `node`              | `boolean`                   | Checks if the next target should be reached. If all targets are achieved, returns `True`; otherwise, uses `control` to guide the robot in the right direction and saves the time variation between instructions. |\n",
    "| `pos_encodeur` | `self`, `node`, `client`, `scale` | `pos_x` and `pos_y` (floats) | Estimates the robot's position using encoder data and returns the estimated position.                    |\n",
    "\n",
    "</span>\n",
    "\n",
    "![Figure 1](./img/control_axe.png)\n",
    "\n",
    "The code is shown below:"
   ]
  },
  {
   "cell_type": "code",
   "execution_count": null,
   "id": "42a3c776-cead-4eb7-9666-3c9fbedb9932",
   "metadata": {},
   "outputs": [],
   "source": [
    "## Method of the robot class\n",
    "# convert cartesian coordinates to thymio relative coordinates in order to get the direction of the current target\n",
    "def thymio_base(self):\n",
    "    B = np.array([self.x_old, self.y_old])   \n",
    "    A = np.array([self.x, self.y])  \n",
    "    C = np.array(self.targets[self.target_Id]) \n",
    "    \n",
    "    AB = A - B\n",
    "\n",
    "    v2 = AB / np.linalg.norm(AB) \n",
    "    v1 = np.array([-v2[1], v2[0]]) \n",
    "    C_prime = C - A\n",
    "    new_C = np.array([np.dot(C_prime, v1), np.dot(C_prime, v2)])\n",
    "    return new_C\n",
    "\n",
    "# proportionnal integrator controler to\n",
    "def pi(self, err):\n",
    "    self.old_err =  err\n",
    "    integrale = 0\n",
    "    if abs(integrale) <= MAX_INT:\n",
    "        integrale += err\n",
    "        \n",
    "    u = KP * err + KI * integrale \n",
    "    return u\n",
    "\n",
    "# compute the command to give to the motor in order to reach the current target\n",
    "def control(self):\n",
    "    target_bar = self.thymio_base()\n",
    "    if target_bar[0] == 0:\n",
    "        err = 0\n",
    "    else:\n",
    "        err = abs(math.atan(target_bar[0]/target_bar[1])) * target_bar[0] / abs(target_bar[0])\n",
    "    diff_speed = self.pi(err)  \n",
    "    return diff_speed\n",
    "\n",
    "# give command to the robot to make it go to its current target\n",
    "def move_robot(self, node):\n",
    "    # check if the robot has move sufficiently to get a new command\n",
    "    if (eucl_distance(self.x, self.y, self.x_old, self.y_old) > MIN_DIST):\n",
    "        dist_from_target = eucl_distance(self.targets[self.target_Id][0], self.targets[self.target_Id][1], self.x, self.y)\n",
    "\n",
    "        # check if the robot is close enough to its target\n",
    "        if dist_from_target <= self.DIST_TARGET_CTRL: \n",
    "            self.target_Id  += 1\n",
    "            if(self.target_Id == len(self.targets)): # return True is last target reached\n",
    "                return True\n",
    "\n",
    "        # get the command \n",
    "        direction = self.control()\n",
    "        node.send_set_variables(motors(self.SPEED + int(direction) , self.SPEED - int(direction)))\n",
    "\n",
    "        # time variable for the computation of the encoder position\n",
    "        self.last_move = time.time()\n",
    "        self.start_move_old = self.start_move\n",
    "        self.start_move = time.time()\n",
    "\n",
    "        # new coordinates\n",
    "        self.x_old = self.x\n",
    "        self.y_old = self.y\n",
    "    return False\n",
    "\n",
    "\n",
    "async def pos_encodeur(self, node, client, scale):\n",
    "    delta_time = self.last_move - self.start_move_old\n",
    "    if delta_time > MAX_DELTA_TIME:\n",
    "        delta_time = AVERAGE_LOOP_TIME\n",
    "    x,y = self.x_enc,self.y_enc\n",
    "    x_old,y_old = self.x_enc_old, self.y_enc_old\n",
    "    self.x_enc_old, self.y_enc_old = self.x_enc, self.y_enc\n",
    "    delta_x, delta_y, delta_angle = 0, 0, 0\n",
    "    if  (x_old == x) and (y_old == y):\n",
    "        print(\"X_old = x et y_old = y pour les encodeurs dans pos_encodeur\")\n",
    "        return x + 1, y + 1\n",
    "    left_speed, right_speed = await get_speed(node,client)                                 # get the speed\n",
    "    delta_x, delta_y,delta_angle = convert(left_speed, right_speed, delta_time, scale)        # get the delta speed\n",
    "    pos_x, pos_y = to_cartesian_base(x, y, x_old, y_old, delta_x, delta_y)\n",
    "    return pos_x, pos_y"
   ]
  },
  {
   "cell_type": "markdown",
   "id": "4ac800d3-59e1-4fec-a7f2-73bdfcd6ddf8",
   "metadata": {},
   "source": [
    "### Functions in the Control Module\n",
    "\n",
    "The remaining functions are as follows:\n",
    "\n",
    "<span style=\"color: #2980B9;\">\n",
    "\n",
    "| **Function**        | **Arguments**                                      | **Returns**                                   | **Short Description**                                                                                  | \n",
    "|:-------------------:|:-------------------------------------------------:|:--------------------------------------------:|:-----------------------------------------------------------------------------------------------------:|\n",
    "| `motor`            | `left`, `right` (two integers)                     | Command for the motors (string)             | Returns a command to run the right motor at speed `right` and the left motor at speed `left`.         |\n",
    "| `eucl_distance`    | `x1`, `y1`, `x2`, `y2` (floats)                    | `dist` (float)                              | Computes and returns the Euclidean distance between two positions.                                   |\n",
    "| `stop_robot`       | `node`                                             | -                                            | Stops the robot's motors.                                                                            |\n",
    "| `get_speed`        | `node`, `client`                                   | `left_speed`, `right_speed` (floats)        | Returns the current speeds of the left and right motors.                                             |\n",
    "| `convert`          | `left_speed`, `right_speed`, `time_s`, `scale`     | `delta_x`, `delta_y`, `delta_angle`         | Takes the robot's motor speeds and elapsed time, returning the change in position (`x`, `y`) and angle. |\n",
    "| `to_cartesian_base`| `x`, `y`, `x_old`, `y_old`, `pos_x`, `pos_y`       | `real_val[0]`, `real_val[1]` (two integers) | Converts position changes from the robot's local base to the Cartesian base.                         |\n",
    "\n",
    "</span>\n",
    "\n",
    "The code is shown below:"
   ]
  },
  {
   "cell_type": "code",
   "execution_count": null,
   "id": "bcf6ddbc-990e-4d33-aa2f-8721979dd239",
   "metadata": {},
   "outputs": [],
   "source": [
    "## Functions in the control module\n",
    "# set the motors speed to the desired one\n",
    "def motors(left, right):\n",
    "    return {\n",
    "        \"motor.left.target\": [left],\n",
    "        \"motor.right.target\": [right],\n",
    "    }\n",
    "\n",
    "# compute the enclidian distance between two points\n",
    "def eucl_distance(x1, y1, x2, y2):\n",
    "    return ((x1-x2)**2 + (y1-y2)**2)**0.5\n",
    "\n",
    "def stop_robot(node):\n",
    "    node.send_set_variables(motors(0, 0))\n",
    "\n",
    "# get the speed of the robot using the encoders\n",
    "async def get_speed(node,client):\n",
    "    await node.wait_for_variables({\"motor.left.speed\", \"motor.right.speed\"})\n",
    "    await client.sleep(TIME_TO_GET)\n",
    "    left_speed, right_speed = node.v.motor.left.speed, node.v.motor.right.speed\n",
    "    return left_speed, right_speed \n",
    "\n",
    "# convert the speed from the encoder and compute the relative variation of position\n",
    "def convert(left_speed, right_speed,time_s,scale):\n",
    "    angular_speed_cst = SCALED_ANGULAR_SPEED * scale\n",
    "    angular_speed = (right_speed - left_speed) * angular_speed_cst\n",
    "    delta_angle = angular_speed * time_s                              # angle in radians\n",
    "    delta_x =  SCALED_SPEED * scale * np.cos(delta_angle) * time_s         \n",
    "    delta_y = SCALED_SPEED * scale * np.sin(delta_angle) * time_s  \n",
    "    return delta_x, delta_y,delta_angle\n",
    "\n",
    "# convert relative coordinates of the thymio to absolute cartesian coordinates\n",
    "def to_cartesian_base(x, y, x_old, y_old, pos_x, pos_y):\n",
    "    B = np.array([x_old, y_old])   \n",
    "    A = np.array([x, y])\n",
    "    C = np.array([pos_x, pos_y])\n",
    "    AB = A - B\n",
    "    v2 = AB / np.linalg.norm(AB)\n",
    "    v1 = np.array([v2[1], -v2[0]])\n",
    "    abs_pos = np.array([np.dot(C, v2), np.dot(C, v1)])\n",
    "    real_val = np.add(abs_pos, A)\n",
    "    return real_val[0], real_val[1]"
   ]
  },
  {
   "cell_type": "markdown",
   "id": "9704a8a6-3854-4949-9c24-fd859bd8bc99",
   "metadata": {},
   "source": [
    "### Implementation of Robot Movement and Target Switching\n",
    "\n",
    "In the `Robot` class, the variables `x` and `y` are set using the robot's position estimation from Kalman filters earlier in the code. The `move_robot` function is then called. This is the main function, and it operates in the following order:\n",
    "\n",
    "1. **Test the distance between the previous and current positions:**\n",
    "   - Check if the distance between the robot's previous position (`x_old`, `y_old`) and its current position (`x`, `y`) is greater than a threshold (`MIN_DIST`).  \n",
    "   - This test is critical for the coordinate transformation later. If the distance traveled is too small, no new command is given to the robot, and the function exits, returning `False`.\n",
    "   - Otherwise, the process continues, as explained in the following.\n",
    "\n",
    "2. **Check the distance to the current goal:**\n",
    "   - If the robot is close enough to its current goal, it switches to the next goal.\n",
    "   - If the robot was already at the final goal, the function returns `True`. Otherwise, the process continues.\n",
    "\n",
    "3. **Calculate the motor speed variation:**\n",
    "   - The function calls `control` to determine the necessary motor speed adjustment. This function will be detailed later.\n",
    "\n",
    "4. **Send the new motor speeds to the robot:**\n",
    "   - The calculated speed commands are sent to the robot.\n",
    "\n",
    "5. **Track the elapsed time:**\n",
    "   - The elapsed time for maintaining the same instruction is recorded. This is used for position estimation with the encoders.\n",
    "\n",
    "6. **Update the previous position:**\n",
    "   - The previous position (`x_old`, `y_old`) is updated to the current position. This is also important for the coordinate transformation performed in the `control` function."
   ]
  },
  {
   "cell_type": "markdown",
   "id": "1b622260-92ab-48c1-9f50-562710f2880d",
   "metadata": {},
   "source": [
    "### `control` function\n",
    "\n",
    "The `control` function operates in the following steps:\n",
    "\n",
    "1. **Transform the target into the robot's local base:**\n",
    "   - The target position is transformed into the robot's local coordinate system, referred to as `target_bar`.\n",
    "\n",
    "2. **Check alignment with the goal:**\n",
    "   - If `target_bar` has no offset in the `x` direction, it means the robot is aligned with its goal and can continue moving straight.\n",
    "\n",
    "3. **Calculate the angular error:**\n",
    "   - If the robot is not aligned, the function calculates the angular error (`err`) between the robot's orientation and the direction of `target_bar`.\n",
    "\n",
    "4. **Use the PI controller:**\n",
    "   - The calculated angular error is passed as an input to the PI controller, which outputs the desired speed variation between the two motors."
   ]
  },
  {
   "cell_type": "markdown",
   "id": "b6738e62-434b-46b1-b4d4-0c2d2d4f3e91",
   "metadata": {},
   "source": [
    "### Implementation of Position Measurement Using Encoders\n",
    "\n",
    "To measure the robot's position using encoders, several functions and initializations must be called in the following order:\n",
    "\n",
    "1. **Initialize encoder values:**\n",
    "   - The robot's encoder values are initialized to the current position (`x` and `y`) of the robot.\n",
    "\n",
    "2. **Adjust motor speeds and track time:**\n",
    "   - The robot updates the speeds of its motors and records the elapsed time in the `robotMoving` function, which is used for global navigation.\n",
    "\n",
    "3. **Call the `pos_encodeur` method:**\n",
    "   - This method returns the robot's estimated position based on the encoders.\n",
    "\n",
    "#### Steps in the `pos_encodeur` Function:\n",
    "\n",
    "1. **Check the time variation:**\n",
    "   - Verify that the calculated time variation is not greater than a thousand seconds `MAX_DELTA_TIME` (due to timing issues with Jupyter Notebook).  \n",
    "   - If it is, use an average loop time `AVERAGE_LOOP_TIME` as the time variation.\n",
    "\n",
    "2. **Save the current position:**\n",
    "   - Store the current position for future iterations. This is essential for the `to_cartesian_base` function.\n",
    "\n",
    "3. **Measure motor speeds:**\n",
    "   - Obtain the current speeds of the motors.\n",
    "\n",
    "4. **Convert motor speeds to positional change:**\n",
    "   - Convert the motor speeds and the time variation into relative changes in position and angle in the robot's local base.\n",
    "\n",
    "5. **Transform relative changes into Cartesian coordinates:**\n",
    "   - Use the relative position changes to compute variations in Cartesian coordinates, and add these to the robot's current position.\n",
    "\n",
    "6. **Return the estimated position:**\n",
    "   - Output the robot's estimated position based on the encoders."
   ]
  },
  {
   "cell_type": "markdown",
   "id": "79a3fe66-7dd5-4654-879c-30dd19cc9b1f",
   "metadata": {},
   "source": [
    "## Filter"
   ]
  },
  {
   "cell_type": "markdown",
   "id": "c77ccecb-6e77-4c31-a087-cb99b0510275",
   "metadata": {
    "jp-MarkdownHeadingCollapsed": true
   },
   "source": [
    "### Use of the Kalman Filter\n",
    "\n",
    "For this project, we used a Kalman filter to estimate the robot's position by fusing data from the camera and the encoders. This choice is based on its ability to integrate information from multiple sensors intelligently, as taught during the lessons: \"Kalman filters combine the statistical properties of sensors to minimize the a posteriori error covariance.\" [Source 1](#Souce1)\n",
    "\n",
    "\n",
    "To validate this approach, we needed to verify two things.\n",
    "\n",
    "First, we need to check if the noise profiles for the camera and the encoders are Gaussian. Initially, we planned to confirm this by conducting experiments where the robot would follow predefined paths and we would analyze and plot the resulting noise profiles. However, due to time constraints and the prioritization of other project tasks, we opted for an hypothetical justification. This justification is based on the \"central limit theorem\" which states that the sum of independents random variables tends to follow a gaussian distribution. Furthermore, the camera and encoders used in this project are affected by electronic noise which also tends to follow a gaussian distribution. These theoretical foundations support the assumption of Gaussian noise in our application, making the Kalman filter an appropriate choice for sensor fusion and position estimation.\n",
    "\n",
    "Second, because our filter is a simple Kalman filter and not the extended one, our model needs to be linear. The movement of the robot cannot be exactly represented by a linear system during the acceleration and deceleration phases of the motors. However, we chose to stick with the linear model for the following reasons:\n",
    "\n",
    "- The Kalman filter is simpler than the Extended Kalman Filter to implement.  \n",
    "- Most of the time, the robot operates at a constant speed.  \n",
    "- The sampling rates of the camera and the encoders are relatively fast compared to the rate of acceleration changes.  \n",
    "- In our tests, the convergence of the camera estimation and the encoder estimation worked well.\n",
    "\n",
    "### The Linear Model\n",
    "$$x_{t+1} = x_{t} + d + q$$\n",
    "$$y_{t} = x_{t} + r$$\n",
    "\n",
    "Where:  \n",
    "- \\(q\\): noise from the encoder.  \n",
    "- \\(r\\): noise from the camera.  \n",
    "- \\(d\\): distance variation estimated from the encoders."
   ]
  },
  {
   "cell_type": "markdown",
   "id": "9e097ced-0b3b-4cfd-826e-cfcb5ae709bf",
   "metadata": {},
   "source": [
    "### Code explanation\n",
    "\n",
    "For the code implementation, we opted to program all the equations required for the Kalman filter while using a simplified model since after some tests we noticed that it worked correctly. We opted for this approach due to the complexity when identifiyng the matrices A and B of the generic Kalman filter. These equations are derived from slides 39, 40 and 41 of [the lesson on uncertainties](#Source1):"
   ]
  },
  {
   "cell_type": "markdown",
   "id": "0e0b7b29-4550-423c-b7bd-3325d0e57792",
   "metadata": {},
   "source": [
    "$$\\overline{\\mu_t} = \\mu_{t-1} + d $$\n",
    "$$\\overline{\\sum_t} = \\sum_{t-1} + q$$\n",
    "$$i_t = y_t -\\overline{\\mu_t} $$\n",
    "$$K_t = \\frac{\\overline{\\sum_t}}{\\overline{\\sum_t} + r} $$\n",
    "$$\\mu_t = \\overline{\\mu_t} + K_ti_t$$\n",
    "$$\\sum_t = (1 - K_t)\\overline{\\sum_t}$$"
   ]
  },
  {
   "cell_type": "code",
   "execution_count": null,
   "id": "76ee851e-18a6-4ace-ab78-3472e5e3d615",
   "metadata": {},
   "outputs": [],
   "source": [
    "## Code for the Kalman filter\n",
    "def kalman(pos_enc, pos_cam, pos_var, var_cam, var_enc, found):\n",
    "    if found:\n",
    "        sum_var = pos_var + var_enc\n",
    "        i_t = pos_cam - pos_enc\n",
    "        k_t = sum_var/(sum_var + var_cam)\n",
    "        new_pos = pos_enc + k_t * i_t\n",
    "        new_var = (1 - k_t)*sum_var\n",
    "    else:\n",
    "        new_pos = pos_enc\n",
    "        new_var = pos_var + var_enc\n",
    "    return new_pos, new_var"
   ]
  },
  {
   "cell_type": "markdown",
   "id": "d94af90a-e623-476d-a733-ee8be0a0dbb6",
   "metadata": {},
   "source": [
    "where: <br>\n",
    "$\\overline{\\mu_t}$ : the prediction of the mean `pos_enc` <br>\n",
    "$\\overline{\\sum_t}$ : the prediction of the error variance `sum_var`<br>\n",
    "d : displacement between two steps <br>\n",
    "q : variance of the displacement noise `var_cam`<br>\n",
    "r : variance of the measurement noise `var_enc`<br>\n",
    "$i_t$ : innovation (difference between measure and prediction) <br>\n",
    "$y_t$ : measure `pos_cam`<br>\n",
    "$K_t$ : optimal gain for the correction <br>\n",
    "$\\mu_t$ : estimation a posteriori `new_pos`<br>\n",
    "$\\sum_t$ : variance of the estimation a posteriori `new_var`<br>\n",
    "\n",
    "To ensure the proper functioning of the filter, certain variables `(var_cam, var_enc)` had to be initialized at the beginning of the code, these variables were designed to persist and be reused during the loop's execution. To fine-tune theses variables we had to try a lot of values until we found those that produced a satisfactory outcome.\n",
    "\n",
    "Additionally, it was necessary to pass some parameters `(pos_enc, pos_cam, pos_var, var_cam, var_enc, found)` to the function so they could be used for computing the equations. As we can see, the variable \"found\" is the only one that is not necessary for the equations' implementation, in fact, this variable is used to know if the camera detects the robot. If found is false, then it means that the camera can't detect the robot thus we can infer that it has been hidden. In this case the position is estimated using only the encoders.  \n",
    "\n",
    "Finally, after having performed the necessary calculations, it was crucial to return some variables `(new_pos, new_var)` so that they could be reused later by the same fonction during the following iterations.\n",
    "\n",
    "The effect of the filter can be seen in the Gif below, the two estimations of the position converge together on the position of the robot. <br>\n",
    "In red the position estimated by the camera, in yellow the position estimated by the encoders.\n",
    "\n",
    "![Filter convergence](./img/convergence_kalman.gif)\n",
    "\n",
    "In the two Gifs below the position of the two estimations and the final estimation can be seen. <br>\n",
    "In red the position estimated by the camera, in yellow the position estimated by the encoders, in green the final estimation after the Kalman filter:\n",
    "\n",
    ">|Two estimations                                       |Final estimation |\n",
    "|:-----------------------------------------------:|:-------------------------------------------------------------------------------:|\n",
    "| ![two_estim](./img/base_configuration.gif) | ![final_estim](./img/base_vert.gif) |\n",
    "\n",
    "In the Gif below the following case is shown; the green circle used to track the robot with the camera is hidden using a white piece of paper. This causes the variable `thymio.found` to be set to False. In this case, only the position estimated by the encoders is used:\n",
    "\n",
    "![Encoder estimation](./img/encodeurs.gif)\n"
   ]
  },
  {
   "cell_type": "markdown",
   "id": "1f96ccb8-c747-4c5e-80cf-326f910ef653",
   "metadata": {},
   "source": [
    "## Kidnapping"
   ]
  },
  {
   "cell_type": "markdown",
   "id": "4f262f15-de36-4645-8bac-e87785195422",
   "metadata": {},
   "source": [
    "The issue of kidnapping is addressed by the function `kidnappingDetection` which is displayed below:"
   ]
  },
  {
   "cell_type": "code",
   "execution_count": null,
   "id": "84f5f6b0-6047-4140-9609-9e86badb2526",
   "metadata": {},
   "outputs": [],
   "source": [
    "# kidnapping detection using ground proximity sensor, if the robot is lifted then it is kidnapped\n",
    "# ground proximity sensor threshold for kidnapping\n",
    "PROX_THRESHOLD = 50\n",
    "\n",
    "def kidnappingDetection(node, client):\n",
    "    aw(node.wait_for_variables({\"prox.ground.delta\"}))\n",
    "    aw(client.sleep(0.01))\n",
    "    prox = node.v.prox.ground.delta[1]\n",
    "    if (prox < PROX_THRESHOLD):\n",
    "        return True\n",
    "    else:\n",
    "        return False"
   ]
  },
  {
   "cell_type": "markdown",
   "id": "2479ce7b-d83b-44ab-a844-0b69d7fc8d94",
   "metadata": {},
   "source": [
    "We decided that a kidnapping implied the robot being lifted up, with this in mind the use of the ground proximity sensor was obvious. If `kidnappingDetection` return `True` the robot is stopped and the FSM goes back to `State 0` to recompute a new path, taking into account the new position of the goal. <br>\n",
    "The process is displayed below:\n",
    "\n",
    "![Kidnapping](./img/kidnapping.gif)\n"
   ]
  },
  {
   "cell_type": "markdown",
   "id": "4bd914c9-dd55-4328-b12f-a366f9c02b19",
   "metadata": {},
   "source": [
    "## utils"
   ]
  },
  {
   "cell_type": "markdown",
   "id": "9b3ecf36-9545-4ee8-a49f-2513856614de",
   "metadata": {
    "jp-MarkdownHeadingCollapsed": true
   },
   "source": [
    "We use this module to store severals drawing functions to highlight specific things on the image.\n",
    "\n",
    "<span style=\"color: #2980B9 ;\">\n",
    "\n",
    ">| function     | arguments             | return                        | short description                                                   | \n",
    "|:-------------:|:---------------------:|:-----------------------------:|:-------------------------------------------------------------------:|\n",
    "| `drawRobot`   | `image (cv2 image), thymio (object of class Robot), template_robot (cv2 image), draw_cam_enc = False (bool)`                  | `None` | draw circles at the robot position with several options; if draw_cam_enc is set as True the position estimated by the camera and the one estimated by the encoders will be displayed in red respectively in yellow else only the position estimated after the Kalman filter will be displayed in green |\n",
    "| `drawGoal`  | `image (cv2 image), goal (np.array), template_goal (cv2 image)`| `None`                    | draw a blue circle around the goal |\n",
    "| `drawObstacles`      | `image (cv2 image)`, `obst_list (list)`  | `None` |  draw the obstacles in orange |\n",
    "\n",
    "</span>"
   ]
  },
  {
   "cell_type": "markdown",
   "id": "57fdab1e-5e26-4eef-8110-5a4a2fce005e",
   "metadata": {},
   "source": [
    "## Conclusion"
   ]
  },
  {
   "cell_type": "markdown",
   "id": "b6f9d08b-adb7-4545-a1a9-0553cad66e5d",
   "metadata": {},
   "source": [
    "Overall this project has been a excellent experience. Teamwork went smoothly and everybody contributed greatly to the final result. We are very proud of what we managed to create in such a short timeframe. <br>\n",
    "Here is a list of the pros and cons concerning the global experience:\n",
    ">|Pros                                     |Cons|\n",
    "|:-----------------------------------------------:|:-------------------------------------------------------------------------------:|\n",
    "| goal achieved, all the requiered elements were implemented | lack of time to do a better work   |\n",
    "| great teamwork | |\n",
    "| robustness of the program  | |\n",
    "| the friends we made along the way <3| |"
   ]
  },
  {
   "cell_type": "markdown",
   "id": "ea154e9a-b8e0-4c04-80d5-fb94cb027871",
   "metadata": {
    "execution": {
     "iopub.execute_input": "2024-12-05T14:07:00.398100Z",
     "iopub.status.busy": "2024-12-05T14:07:00.397089Z",
     "iopub.status.idle": "2024-12-05T14:07:00.405208Z",
     "shell.execute_reply": "2024-12-05T14:07:00.404191Z",
     "shell.execute_reply.started": "2024-12-05T14:07:00.398100Z"
    }
   },
   "source": [
    "## Sources"
   ]
  },
  {
   "cell_type": "markdown",
   "id": "a81bb39a-1014-4d5f-82d9-aa8d6ce1e291",
   "metadata": {},
   "source": [
    "[1] <a id=\"Source1\"></a> MICRO-452 - \"Basics of Mobile Robotics\" by Francesco Mondada<br>\n",
    "[2] <a id=\"Source2\"></a> https://www.bartleby.com/essay/Advantages-And-Disadvantages-Of-The-Kalman-Filter-FCVGM8XCJG#:~:text=An%20advantage%20over%20the%20Kalman,a%20state%2Dspace%2Dexplosion <br>\n",
    "[3] <a id=\"Source3\"></a> https://docs.opencv.org/4.x/index.html <br>\n",
    "[4] <a id=\"Source4\"></a> MICRO-452 - \"Basics of Mobile Robotics\" by Francesco Mondada - Exercise Session 3 - Artificial neural networks"
   ]
  },
  {
   "cell_type": "markdown",
   "id": "af356bac-21ca-4f4a-9f32-2ac51cb2732a",
   "metadata": {},
   "source": [
    "# Code"
   ]
  },
  {
   "cell_type": "markdown",
   "id": "01e28629-680d-4024-b3fb-46c08e861d8e",
   "metadata": {},
   "source": [
    "Execute the following cells to run the project"
   ]
  },
  {
   "cell_type": "code",
   "execution_count": 1,
   "id": "2bc8dd36-e7e0-445a-b227-5d06c204577c",
   "metadata": {
    "execution": {
     "iopub.execute_input": "2024-12-05T13:42:12.488034Z",
     "iopub.status.busy": "2024-12-05T13:42:12.487017Z",
     "iopub.status.idle": "2024-12-05T13:42:13.194529Z",
     "shell.execute_reply": "2024-12-05T13:42:13.194529Z",
     "shell.execute_reply.started": "2024-12-05T13:42:12.488034Z"
    }
   },
   "outputs": [],
   "source": [
    "### import \n",
    "from IPython.display import display, Image\n",
    "import ipywidgets as widgets\n",
    "from IPython.display import clear_output\n",
    "from FSM import *"
   ]
  },
  {
   "cell_type": "code",
   "execution_count": 2,
   "id": "04dd7209-b00f-4d83-b9c0-bff2685b06a9",
   "metadata": {
    "execution": {
     "iopub.execute_input": "2024-12-05T13:42:13.195574Z",
     "iopub.status.busy": "2024-12-05T13:42:13.195574Z",
     "iopub.status.idle": "2024-12-05T13:42:13.413158Z",
     "shell.execute_reply": "2024-12-05T13:42:13.412155Z",
     "shell.execute_reply.started": "2024-12-05T13:42:13.195574Z"
    }
   },
   "outputs": [
    {
     "data": {
      "text/plain": [
       "Node 2c7350d0-9e66-4eb8-9b25-c07ee89089f8"
      ]
     },
     "execution_count": 2,
     "metadata": {},
     "output_type": "execute_result"
    }
   ],
   "source": [
    "### initiate communication with the Thymio\n",
    "client = ClientAsync()\n",
    "node = await client.wait_for_node()\n",
    "await node.lock()"
   ]
  },
  {
   "cell_type": "code",
   "execution_count": 4,
   "id": "432303e3-cd5a-4d16-8f65-0d40ba0ff592",
   "metadata": {
    "execution": {
     "iopub.execute_input": "2024-12-05T13:42:20.392384Z",
     "iopub.status.busy": "2024-12-05T13:42:20.392384Z",
     "iopub.status.idle": "2024-12-05T13:43:14.016944Z",
     "shell.execute_reply": "2024-12-05T13:43:14.016944Z",
     "shell.execute_reply.started": "2024-12-05T13:42:20.392384Z"
    }
   },
   "outputs": [],
   "source": [
    "### Main loop\n",
    "\n",
    "#### CONSTANTS\n",
    "# constants for movement\n",
    "DIST_TARGET_CTRL = 30  # min distance between the robot and a target that counts as \"the robot cleared the target\"\n",
    "SPEED = 150\n",
    "\n",
    "# constants for taking into account the distance between the plan and the camera\n",
    "SCALE_IMG = 55\n",
    "SCALING_FACTOR = 40\n",
    "\n",
    "### initialization of the robot \n",
    "thymio = Robot(DIST_TARGET_CTRL,SPEED)\n",
    "\n",
    "### initialization of the computer vision\n",
    "cap = cv2.VideoCapture(0, cv2.CAP_DSHOW)  \n",
    "[template_rbt, template_goal] = defTemplate(SCALE_IMG)\n",
    "goal = [0, 0]\n",
    "foundG = False\n",
    "\n",
    "#### initialization of the FSM\n",
    "state = 0\n",
    "is_finished = False\n",
    "\n",
    "# check if the camera is open\n",
    "if not cap.isOpened():\n",
    "    print(\"Error: Could not access the camera\")\n",
    "else:\n",
    "    # allow some time for the camera to initialize\n",
    "    time.sleep(2)\n",
    "    ### MAIN LOOP\n",
    "    while True: \n",
    "        success, image = cap.read()\n",
    "        # check if the camera reads images\n",
    "        if not success:\n",
    "            cap.release()\n",
    "            print(\"Error: Could not read the camera\")\n",
    "            break\n",
    "        \n",
    "        \n",
    "        clear_output(True)\n",
    "        \n",
    "        ## initial situation, localisation of the rbt, the goal and the obstacles\n",
    "        ## once everything is located press \"l\" to start the program \n",
    "        if state == 0:\n",
    "            [goal, obst_list] = globalPlanning(image, thymio, SCALING_FACTOR, template_rbt, template_goal)\n",
    "            if cv2.waitKey(1) & 0xFF==ord('l'): \n",
    "                state = 1\n",
    "                \n",
    "        ## robot moving\n",
    "        # check if the robot is either kidnapped or meeting a local obstacles \n",
    "        if(state == 1 or state == 2):\n",
    "            state = updateState(state, client, node, aw, thymio)\n",
    "\n",
    "        # robot moving following the global navigation and leaving the loop if the goal has been reaching\n",
    "        if state == 1:            \n",
    "            is_finished = await robotMoving(thymio, image, template_rbt, node, client, SCALE_IMG)     \n",
    "            if (is_finished):\n",
    "                cap.release()\n",
    "                break \n",
    "                \n",
    "        # robot moving in case of local obstacle\n",
    "        if state == 2:\n",
    "            await localAvoidance(SPEED, node, aw, thymio, client, SCALE_IMG, state, image, template_rbt)\n",
    "\n",
    "        # wait some time after kidnapping detection, then go back to state = 0 to re scan the entire map\n",
    "        if state == 3:\n",
    "            obst_list = []\n",
    "            if((time.time() - thymio.kid_start) > 5):\n",
    "                state = 0\n",
    "\n",
    "        # after avoiding a local obstacle, go forward to clear the obstacle\n",
    "        if state == 4:\n",
    "            # Track the robot's position using vision\n",
    "            [(thymio.x_cam, thymio.y_cam), thymio.found] = robotTracking(image, template_rbt)\n",
    "            \n",
    "            thymio.x, thymio.var_x = kalman(thymio.x_enc, thymio.x_cam, thymio.var_x, VAR_CAM, VAR_ENC, thymio.found)\n",
    "            thymio.y, thymio.var_y = kalman(thymio.y_enc, thymio.y_cam, thymio.var_y, VAR_CAM, VAR_ENC, thymio.found)\n",
    "            thymio.x_enc, thymio.y_enc = thymio.x, thymio.y\n",
    "\n",
    "            # time variable for the computation of the encoder position\n",
    "            thymio.last_move = time.time()\n",
    "            thymio.start_move_old = thymio.start_move\n",
    "            thymio.start_move = time.time()\n",
    "            thymio.x_enc, thymio.y_enc = await thymio.pos_encodeur(node, client, SCALE_IMG)\n",
    "           \n",
    "            if((time.time() - thymio.avoid_time) > 2):\n",
    "                state = 1      \n",
    "        \n",
    " \n",
    "        # image drawing and display\n",
    "        drawRobot(image, thymio, template_rbt, False)\n",
    "        drawGoal(image, goal, template_goal)\n",
    "        drawObstacle(image, obst_list)\n",
    "        cv2.imshow('Computer Vision', image) \n",
    "        \n",
    "        # quit when 'q' is pressed\n",
    "        if cv2.waitKey(1) & 0xFF==ord('q'): \n",
    "            cap.release()\n",
    "            break\n",
    "\n",
    "stop_robot(node)\n",
    "cv2.destroyAllWindows()"
   ]
  }
 ],
 "metadata": {
  "kernelspec": {
   "display_name": "Python 3 (ipykernel)",
   "language": "python",
   "name": "python3"
  },
  "language_info": {
   "codemirror_mode": {
    "name": "ipython",
    "version": 3
   },
   "file_extension": ".py",
   "mimetype": "text/x-python",
   "name": "python",
   "nbconvert_exporter": "python",
   "pygments_lexer": "ipython3",
   "version": "3.12.7"
  }
 },
 "nbformat": 4,
 "nbformat_minor": 5
}
